{
 "cells": [
  {
   "cell_type": "code",
   "execution_count": 1,
   "metadata": {},
   "outputs": [],
   "source": [
    "import numpy as np\n",
    "import matplotlib.pyplot as plt\n",
    "import math\n",
    "from gs_classifier import gs_classifier_train"
   ]
  },
  {
   "cell_type": "code",
   "execution_count": 2,
   "metadata": {},
   "outputs": [
    {
     "name": "stderr",
     "output_type": "stream",
     "text": [
      "/home/francisco/unlu/pc/gs-classifier/gs_classifier.py:39: RuntimeWarning: Mean of empty slice.\n",
      "  loss = -predictions[predictions<0].mean()\n",
      "/usr/lib/python3.6/site-packages/numpy/core/_methods.py:80: RuntimeWarning: invalid value encountered in double_scalars\n",
      "  ret = ret.dtype.type(ret / rcount)\n"
     ]
    },
    {
     "name": "stdout",
     "output_type": "stream",
     "text": [
      "Solution; [-2.70439547e-04 -1.99972910e+00  4.99999908e+00]\n",
      "Loss: 0.00013499086693347095\n"
     ]
    },
    {
     "data": {
      "image/png": "[encoded data removed]",
      "text/plain": [
       "<Figure size 864x576 with 1 Axes>"
      ]
     },
     "metadata": {},
     "output_type": "display_data"
    }
   ],
   "source": [
    "# Definir datos de prueba (estos datos no son separables linealmente)\n",
    "dataset = np.array([\n",
    "    [0, 0, 1],\n",
    "    [2, 1, 1],\n",
    "    [2, 2, 1],\n",
    "    [3, 3, -1],\n",
    "    [3, 4, -1],\n",
    "    [1.5, 2.2, 1],\n",
    "    [4, 3, -1],\n",
    "    [1, 2, 1],\n",
    "    [3, 2.5, 1],\n",
    "    [4, 4, -1],\n",
    "    [2, 3, -1],\n",
    "    [2,2.5,1]\n",
    "])\n",
    "\n",
    "# Resolver el vector de pesos\n",
    "xf, loss = gs_classifier_train(dataset[:,0:2], dataset[:,2:].ravel(), maxloss=.03)\n",
    "\n",
    "print('Solution; {}'.format(xf))\n",
    "print('Loss: {}'.format(loss))\n",
    "\n",
    "# Graficar la solucion\n",
    "i = dataset[:,2] == 1\n",
    "j = dataset[:,2] == -1\n",
    "\n",
    "plt.figure(figsize=(12,8))\n",
    "plt.ylim((dataset[:,1].min()-1, dataset[:,1].max()+1))\n",
    "plt.xlim((dataset[:,0].min()-1, dataset[:,0].max()+1))\n",
    "\n",
    "X,Y = np.meshgrid(\n",
    "    np.linspace(*plt.xlim(), num=10),\n",
    "    np.linspace(*plt.ylim(), num=10)\n",
    ")\n",
    "Z = X * xf[0] + Y * xf[1] + xf[2]\n",
    "\n",
    "plt.contourf(X,Y,Z, colors=('#ff0000','#0000ff'), levels=(Z.min()-1,0,Z.max()+1), alpha=0.25, extend='both')\n",
    "plt.plot(dataset[i,0], dataset[i,1], 'bo', dataset[j,0], dataset[j,1], 'ro', markersize=10)\n",
    "plt.show()"
   ]
  },
  {
   "cell_type": "markdown",
   "metadata": {},
   "source": [
    "Vemos que aunque los datos son inseparables linealmente, el algoritmo converge y la solución resulta aceptable"
   ]
  },
  {
   "cell_type": "code",
   "execution_count": null,
   "metadata": {},
   "outputs": [],
   "source": []
  }
 ],
 "metadata": {
  "kernelspec": {
   "display_name": "Python 3",
   "language": "python",
   "name": "python3"
  },
  "language_info": {
   "codemirror_mode": {
    "name": "ipython",
    "version": 3
   },
   "file_extension": ".py",
   "mimetype": "text/x-python",
   "name": "python",
   "nbconvert_exporter": "python",
   "pygments_lexer": "ipython3",
   "version": "3.6.5"
  }
 },
 "nbformat": 4,
 "nbformat_minor": 2
}
